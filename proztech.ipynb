{
  "nbformat": 4,
  "nbformat_minor": 0,
  "metadata": {
    "colab": {
      "provenance": [],
      "authorship_tag": "ABX9TyM5bWtHwDLMa53jzZ3o9jbU",
      "include_colab_link": true
    },
    "kernelspec": {
      "name": "python3",
      "display_name": "Python 3"
    },
    "language_info": {
      "name": "python"
    }
  },
  "cells": [
    {
      "cell_type": "markdown",
      "metadata": {
        "id": "view-in-github",
        "colab_type": "text"
      },
      "source": [
        "<a href=\"https://colab.research.google.com/github/jasilvaleite/expert-octo-computing-machine/blob/main/proztech.ipynb\" target=\"_parent\"><img src=\"https://colab.research.google.com/assets/colab-badge.svg\" alt=\"Open In Colab\"/></a>"
      ]
    },
    {
      "cell_type": "markdown",
      "source": [
        "Desenvolva um programa que recebe do usuário nome completo e ano de nascimento que seja entre 1922 e 2021.\n",
        "A partir dessas informações, o sistema mostrará o nome do usuário e a idade que completou, ou completará, no ano atual (2022).\n",
        "\n",
        "Caso o usuário não digite um número ou apareça um inválido no campo do ano, o sistema informará o erro e continuará perguntando até que um valor correto seja preenchido.\n",
        "\n",
        "Trabalhe esse código em seu IDE, suba ele para sua conta no GitHub e compartilhe o link desse projeto no campo ao lado para que outros desenvolvedores possam analisá-lo."
      ],
      "metadata": {
        "id": "V44zNRt9Bez0"
      }
    },
    {
      "cell_type": "code",
      "execution_count": null,
      "metadata": {
        "colab": {
          "base_uri": "https://localhost:8080/"
        },
        "id": "gI5bFboTAfw3",
        "outputId": "6625b327-f4fe-4151-ff02-54ae9e228261"
      },
      "outputs": [
        {
          "output_type": "stream",
          "name": "stdout",
          "text": [
            "Nome completo:\n",
            "jailson silva\n",
            "Digite aqui o ano do seu nascimento:\n",
            "1980\n",
            "Nome: jailson silva\n",
            "Idade: 43\n"
          ]
        }
      ],
      "source": [
        "import datetime\n",
        "\n",
        "ano_atual = datetime.date.today().year\n",
        "\n",
        "\n",
        "while True:\n",
        "    nome = input('Nome completo:\\n')\n",
        "    ano_nasc = int(input('Digite aqui o ano do seu nascimento:\\n'))\n",
        "\n",
        "    try:\n",
        "\n",
        "        if 1922 <= ano_nasc <= 2021:\n",
        "            idade = ano_atual - ano_nasc\n",
        "            print(f'Nome: {nome}\\nIdade: {idade}')\n",
        "            break\n",
        "        else:\n",
        "            print('Ano de nascimento inválido. Tente novamente.')\n",
        "\n",
        "    except ValueError:\n",
        "      print('Entrada Inválida')"
      ]
    }
  ]
}