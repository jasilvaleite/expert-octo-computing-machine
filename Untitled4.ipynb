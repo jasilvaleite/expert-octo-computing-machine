{
  "nbformat": 4,
  "nbformat_minor": 0,
  "metadata": {
    "colab": {
      "provenance": [],
      "authorship_tag": "ABX9TyMWKuCGAzUWU9Bc1XbUqp0I",
      "include_colab_link": true
    },
    "kernelspec": {
      "name": "python3",
      "display_name": "Python 3"
    },
    "language_info": {
      "name": "python"
    }
  },
  "cells": [
    {
      "cell_type": "markdown",
      "metadata": {
        "id": "view-in-github",
        "colab_type": "text"
      },
      "source": [
        "<a href=\"https://colab.research.google.com/github/jasilvaleite/expert-octo-computing-machine/blob/main/Untitled4.ipynb\" target=\"_parent\"><img src=\"https://colab.research.google.com/assets/colab-badge.svg\" alt=\"Open In Colab\"/></a>"
      ]
    },
    {
      "cell_type": "markdown",
      "source": [
        "Faça uma função calculadora de dois números com três parâmetros: os dois primeiros serão os números da operação e o terceiro será a entrada que definirá a operação a ser executada. Considera a seguinte definição:\n",
        "1. Soma\n",
        "2. Subtração\n",
        "3. Multiplicação\n",
        "4. Divisão\n"
      ],
      "metadata": {
        "id": "xwGOCRf9EZfu"
      }
    },
    {
      "cell_type": "code",
      "execution_count": 5,
      "metadata": {
        "colab": {
          "base_uri": "https://localhost:8080/"
        },
        "id": "OX3JqKv2EXzs",
        "outputId": "ff504858-6eaa-4208-f970-60d4a5ab1d1c"
      },
      "outputs": [
        {
          "output_type": "stream",
          "name": "stdout",
          "text": [
            "[1] - Soma:\n",
            "[2] - Subtração\n",
            "[3] - Multiplicação\n",
            "[4] - Divisão\n",
            "[0] - Sair\n",
            "Digite o número da operação desejada:\n",
            "0\n",
            "Programa Encerrado.\n"
          ]
        }
      ],
      "source": [
        "def calculadora(n1, n2, operando):\n",
        "    if operando == '1':\n",
        "        return n1 + n2\n",
        "    elif operando == '2':\n",
        "        return n1 - n2\n",
        "    elif operando == '3':\n",
        "        return n1 * n2\n",
        "    elif operando == '4':\n",
        "        return n1 / n2\n",
        "    else:\n",
        "        return None\n",
        "\n",
        "\n",
        "while True:\n",
        "  print('[1] - Soma:\\n[2] - Subtração\\n[3] - Multiplicação\\n[4] - Divisão\\n[0] - Sair')\n",
        "\n",
        "  operando = input('Digite o número da operação desejada:\\n')\n",
        "\n",
        "  if operando == '0':\n",
        "    print('Programa Encerrado.')\n",
        "    break\n",
        "\n",
        "  if operando not in ['1', '2', '3', '4']:\n",
        "    print('Ocorreu um erro de operação.Tente novamente.\\n')\n",
        "    continue\n",
        "\n",
        "  n1 = float(input('Digite o primeiro valor:\\n'))\n",
        "  n2 = float(input('Digite o segundo valor:\\n'))\n",
        "\n",
        "  resultado = calculadora(n1, n2, operando)\n",
        "\n",
        "  if resultado is not None:\n",
        "    print(f'{n1} {operando} {n2} = {resultado}')\n",
        "  else:\n",
        "    print('Operação Inválida. Tente Novamente.\\n')"
      ]
    }
  ]
}