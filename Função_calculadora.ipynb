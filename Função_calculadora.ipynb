{
  "nbformat": 4,
  "nbformat_minor": 0,
  "metadata": {
    "colab": {
      "provenance": [],
      "authorship_tag": "ABX9TyOH9+GMfmbHkzQEL9NbSlUX",
      "include_colab_link": true
    },
    "kernelspec": {
      "name": "python3",
      "display_name": "Python 3"
    },
    "language_info": {
      "name": "python"
    }
  },
  "cells": [
    {
      "cell_type": "markdown",
      "metadata": {
        "id": "view-in-github",
        "colab_type": "text"
      },
      "source": [
        "<a href=\"https://colab.research.google.com/github/jasilvaleite/expert-octo-computing-machine/blob/main/Fun%C3%A7%C3%A3o_calculadora.ipynb\" target=\"_parent\"><img src=\"https://colab.research.google.com/assets/colab-badge.svg\" alt=\"Open In Colab\"/></a>"
      ]
    },
    {
      "cell_type": "markdown",
      "source": [
        "Faça uma função calculadora que os números e as operações serão feitas pelo usuário. O código deve ficar rodando infinitamente até que o usuário escolha a opção de sair. No início, o programa mostrará a seguinte lista de operações:\n",
        "1: Soma\n",
        "2: Subtração\n",
        "3: Multiplicação\n",
        "4: Divisão\n",
        "0: Sair\n",
        "\n",
        "Digite o número para a operação correspondente e caso o usuário introduza qualquer outro, o sistema deve mostrar a mensagem “Essa opção não existe” e voltar ao menu de opções.\n",
        "\n",
        "Após a seleção, o sistema deve pedir para o usuário inserir o primeiro e segundo valor, um de cada. Depois precisa executar a operação e mostrar o resultado na tela. Quando o usuário escolher a opção “Sair”, o sistema irá parar.\n",
        "\n",
        "É necessário que o sistema mostre as opções sempre que finalizar uma operação e mostrar o resultado."
      ],
      "metadata": {
        "id": "5KN2U1bca2mt"
      }
    },
    {
      "cell_type": "code",
      "execution_count": null,
      "metadata": {
        "id": "ScjMuqhTaJit"
      },
      "outputs": [],
      "source": [
        "while True:\n",
        "  print('[1] - Soma:\\n[2] - Subtração\\n[3] - Multiplicação\\n[4] - Divisão\\n[0] - Sair')\n",
        "\n",
        "  operando = input('Digite o número da operação desejada:\\n')\n",
        "\n",
        "  if operando == '0':\n",
        "    print('Programa Encerrado.')\n",
        "    break\n",
        "\n",
        "  if operando not in ['1', '2', '3', '4']:\n",
        "    print('Ocorreu um erro de operação.Tente novamente.\\n')\n",
        "    continue\n",
        "\n",
        "  n1 = float(input('Digite o primeiro valor:\\n'))\n",
        "  n2 = float(input('Digite o segundo valor:\\n'))\n",
        "\n",
        "  resultado = calculadora(n1, n2, operando)\n",
        "\n",
        "  if resultado is not None:\n",
        "    print(f'{n1} {operando} {n2} = {resultado}')\n",
        "  else:\n",
        "    print('Operação Inválida. Tente Novamente.\\n')"
      ]
    }
  ]
}