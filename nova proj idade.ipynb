{
  "nbformat": 4,
  "nbformat_minor": 0,
  "metadata": {
    "colab": {
      "provenance": [],
      "authorship_tag": "ABX9TyNDInMNNgLIhrpWfhibemhM",
      "include_colab_link": true
    },
    "kernelspec": {
      "name": "python3",
      "display_name": "Python 3"
    },
    "language_info": {
      "name": "python"
    }
  },
  "cells": [
    {
      "cell_type": "markdown",
      "metadata": {
        "id": "view-in-github",
        "colab_type": "text"
      },
      "source": [
        "<a href=\"https://colab.research.google.com/github/jasilvaleite/expert-octo-computing-machine/blob/main/nova%20proj%20idade.ipynb\" target=\"_parent\"><img src=\"https://colab.research.google.com/assets/colab-badge.svg\" alt=\"Open In Colab\"/></a>"
      ]
    },
    {
      "cell_type": "markdown",
      "source": [
        "Desenvolva um programa que recebe do usuário nome completo e ano de nascimento que seja entre 1922 e 2021. A partir dessas informações, o sistema mostrará o nome do usuário e a idade que completou, ou completará, no ano atual (2022).\n",
        "\n",
        "Caso o usuário não digite um número ou apareça um inválido no campo do ano, o sistema informará o erro e continuará perguntando até que um valor correto seja preenchido.\n",
        "\n",
        "Trabalhe esse código em seu IDE, suba ele para sua conta no GitHub e compartilhe o link desse projeto no campo ao lado para que outros desenvolvedores possam analisá-lo."
      ],
      "metadata": {
        "id": "Lz6NvXfeEest"
      }
    },
    {
      "cell_type": "code",
      "source": [
        "print(\"digite seu nome:\")\n",
        "nome = input()\n",
        "\n",
        "\n",
        "executar = True\n",
        "\n",
        "\n",
        "while(executar ==True):\n",
        "  print(\"digite seu ano de nascimento\")\n",
        "  try:\n",
        "    ano = int(input())\n",
        "    if(ano < 1922) or (ano > 2021):\n",
        "      print (\"o ano precisa ser entre 1922 e 2021\")\n",
        "    else:\n",
        "        idade = 2022 - ano\n",
        "        print (\"o usuario\", nome, \"completou ou completara\",idade, \"anos de idade em 2022\")\n",
        "        executar = False\n",
        "  except:\n",
        "      print(\"os anos precisam ser escritos apenas com numeros\")"
      ],
      "metadata": {
        "colab": {
          "base_uri": "https://localhost:8080/"
        },
        "id": "V99GhB3JEg2V",
        "outputId": "5edd22b9-641c-4613-a011-3c21ab8738e9"
      },
      "execution_count": 7,
      "outputs": [
        {
          "output_type": "stream",
          "name": "stdout",
          "text": [
            "digite seu nome:\n",
            "jailson leite\n",
            "digite seu ano de nascimento\n",
            "1980\n",
            "o usuario jailson leite completou ou completara 42 anos de idade em 2022\n"
          ]
        }
      ]
    }
  ]
}